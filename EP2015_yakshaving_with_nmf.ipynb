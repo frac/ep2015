{
 "cells": [
  {
   "cell_type": "code",
   "execution_count": null,
   "metadata": {
    "collapsed": false,
    "scrolled": false
   },
   "outputs": [],
   "source": [
    "from bokeh.plotting import output_notebook\n",
    "from bokeh.charts import Bar, output_file, show\n",
    "\n",
    "from bokeh.charts import HeatMap\n",
    "output_notebook()\n",
    "\n",
    "import pickle\n",
    "import numpy as np\n",
    "import pandas as pd\n",
    "from decimal import Decimal as D"
   ]
  },
  {
   "cell_type": "markdown",
   "metadata": {},
   "source": [
    "###Load the data\n"
   ]
  },
  {
   "cell_type": "code",
   "execution_count": null,
   "metadata": {
    "collapsed": true,
    "scrolled": false
   },
   "outputs": [],
   "source": [
    "(m, user_names, rest_urls, rest_dict, r_factors, u_factors) = pickle.load(open(\"results.pickle\", \"r\"))\n",
    "M = pd.DataFrame(m)\n",
    "R = pd.DataFrame(r_factors)\n",
    "U = pd.DataFrame(u_factors)"
   ]
  },
  {
   "cell_type": "markdown",
   "metadata": {},
   "source": [
    "## run the nnmf"
   ]
  },
  {
   "cell_type": "markdown",
   "metadata": {},
   "source": [
    "If you want to run the factorization:"
   ]
  },
  {
   "cell_type": "markdown",
   "metadata": {},
   "source": [
    "import nnmf\n",
    "\n",
    "r_factors, u_factors = nnmf.factorize(mat, pc=10)"
   ]
  },
  {
   "cell_type": "markdown",
   "metadata": {},
   "source": [
    "## M matrix"
   ]
  },
  {
   "cell_type": "code",
   "execution_count": null,
   "metadata": {
    "collapsed": false,
    "scrolled": false
   },
   "outputs": [],
   "source": [
    "M.head()\n"
   ]
  },
  {
   "cell_type": "markdown",
   "metadata": {},
   "source": [
    "## R matrix"
   ]
  },
  {
   "cell_type": "code",
   "execution_count": null,
   "metadata": {
    "collapsed": false,
    "scrolled": false
   },
   "outputs": [],
   "source": [
    "R.tail()"
   ]
  },
  {
   "cell_type": "markdown",
   "metadata": {},
   "source": [
    "## U matrix"
   ]
  },
  {
   "cell_type": "code",
   "execution_count": null,
   "metadata": {
    "collapsed": false,
    "scrolled": false
   },
   "outputs": [],
   "source": [
    "U"
   ]
  },
  {
   "cell_type": "markdown",
   "metadata": {},
   "source": [
    "##beautify matrices\n",
    "\n",
    "add names and urls for the R\n",
    "add names and transpose U"
   ]
  },
  {
   "cell_type": "code",
   "execution_count": null,
   "metadata": {
    "collapsed": false,
    "scrolled": false
   },
   "outputs": [],
   "source": [
    "\n",
    "R = R.applymap(lambda x: round(x, 2))\n",
    "\n",
    "R[\"url\"] =  pd.Series(rest_urls)\n",
    "R[\"name\"] =  pd.Series(rest_urls)\n",
    "R[\"name\"].replace(rest_dict, inplace=True)\n",
    "cols = list(R)\n",
    "cols.insert(0, cols.pop(cols.index('name')))\n",
    "R = R.ix[:, cols]\n",
    "R.columns = [\"name\", \"f0\", \"f1\", \"f2\", \"f3\", \"f4\", \"f5\", \"f6\", \"f7\", \"f8\", \"f9\", \"url\"]\n",
    "\n",
    "U = U.applymap(lambda x: round(x, 2))\n",
    "U = U.T\n",
    "U[\"name\"] =  pd.Series(user_names)\n",
    "cols = list(U)\n",
    "cols.insert(0, cols.pop(cols.index('name')))\n",
    "U = U.ix[:, cols]\n",
    "U.columns = [\"name\", \"f0\", \"f1\", \"f2\", \"f3\", \"f4\", \"f5\", \"f6\", \"f7\", \"f8\", \"f9\"]\n",
    "\n"
   ]
  },
  {
   "cell_type": "markdown",
   "metadata": {},
   "source": [
    "## Oh my pretty matrices"
   ]
  },
  {
   "cell_type": "code",
   "execution_count": null,
   "metadata": {
    "collapsed": false,
    "scrolled": false
   },
   "outputs": [],
   "source": [
    "R.head()"
   ]
  },
  {
   "cell_type": "code",
   "execution_count": null,
   "metadata": {
    "collapsed": false,
    "scrolled": false
   },
   "outputs": [],
   "source": [
    "U.head()"
   ]
  },
  {
   "cell_type": "markdown",
   "metadata": {},
   "source": [
    "## Add some search and display capability"
   ]
  },
  {
   "cell_type": "code",
   "execution_count": null,
   "metadata": {
    "collapsed": false,
    "scrolled": false
   },
   "outputs": [],
   "source": [
    "\n",
    "def get_rest(R, name):\n",
    "    selected = R[R['name'].str.contains(name, case=False)]\n",
    "    return selected\n",
    "\n",
    "\n",
    "def show_selected(selected, number=5):\n",
    "    for pos,i in enumerate(selected.index):\n",
    "        if pos == number:\n",
    "            return\n",
    "        row = selected[pos:pos+1:]\n",
    "        bar = Bar(row.loc[:,\"f0\":\"f9\"].transpose(), title=row[\"name\"].get(row.index[0]))\n",
    "        show(bar)\n",
    "\n",
    "def find_similar(R, selected):\n",
    "    just_data = selected.loc[:,\"f0\":\"f9\"]\n",
    "    new_columns = just_data[just_data.ix[just_data.last_valid_index()].argsort()]\n",
    "    just_data = just_data[new_columns.columns.tolist()[::-1]]\n",
    "    return R.sort(new_columns.columns.tolist()[::-1], ascending=[0,0,0,0,0,0,0,0,0,0]).head()\n",
    "    \n"
   ]
  },
  {
   "cell_type": "markdown",
   "metadata": {},
   "source": [
    "## Do a search\n",
    "\n",
    "Using the restaurants similarities"
   ]
  },
  {
   "cell_type": "code",
   "execution_count": null,
   "metadata": {
    "collapsed": false,
    "scrolled": false
   },
   "outputs": [],
   "source": [
    "selected  = get_rest(R, \"rio oja\")\n",
    "\n",
    "show_selected(selected)"
   ]
  },
  {
   "cell_type": "markdown",
   "metadata": {},
   "source": [
    "## show the similar restaurants"
   ]
  },
  {
   "cell_type": "code",
   "execution_count": null,
   "metadata": {
    "collapsed": false,
    "scrolled": false
   },
   "outputs": [],
   "source": [
    "\n",
    "show_selected(find_similar(R, selected))"
   ]
  },
  {
   "cell_type": "code",
   "execution_count": null,
   "metadata": {
    "collapsed": false,
    "scrolled": false
   },
   "outputs": [],
   "source": [
    "users_selected = find_similar(U, selected)\n",
    "show_selected(users_selected)"
   ]
  },
  {
   "cell_type": "code",
   "execution_count": null,
   "metadata": {
    "collapsed": false,
    "scrolled": false
   },
   "outputs": [],
   "source": [
    "users_restaurants = find_similar(R, users_selected)\n",
    "show_selected(users_restaurants)"
   ]
  }
 ],
 "metadata": {
  "kernelspec": {
   "display_name": "Python 2",
   "language": "python",
   "name": "python2"
  },
  "language_info": {
   "codemirror_mode": {
    "name": "ipython",
    "version": 2
   },
   "file_extension": ".py",
   "mimetype": "text/x-python",
   "name": "python",
   "nbconvert_exporter": "python",
   "pygments_lexer": "ipython2",
   "version": "2.7.8"
  }
 },
 "nbformat": 4,
 "nbformat_minor": 0
}
